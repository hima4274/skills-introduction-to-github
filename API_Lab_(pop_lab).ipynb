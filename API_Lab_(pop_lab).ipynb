{
  "nbformat": 4,
  "nbformat_minor": 0,
  "metadata": {
    "colab": {
      "provenance": [],
      "authorship_tag": "ABX9TyPLpCDNilazb8Rm93luKw2W",
      "include_colab_link": true
    },
    "kernelspec": {
      "name": "python3",
      "display_name": "Python 3"
    },
    "language_info": {
      "name": "python"
    }
  },
  "cells": [
    {
      "cell_type": "markdown",
      "metadata": {
        "id": "view-in-github",
        "colab_type": "text"
      },
      "source": [
        "<a href=\"https://colab.research.google.com/github/hima4274/skills-introduction-to-github/blob/main/API_Lab_(pop_lab).ipynb\" target=\"_parent\"><img src=\"https://colab.research.google.com/assets/colab-badge.svg\" alt=\"Open In Colab\"/></a>"
      ]
    },
    {
      "cell_type": "code",
      "execution_count": 17,
      "metadata": {
        "id": "sIVbXU3wnABE",
        "colab": {
          "base_uri": "https://localhost:8080/"
        },
        "outputId": "01c0e8bf-3484-40bc-9470-e6d84b7e49d2"
      },
      "outputs": [
        {
          "output_type": "stream",
          "name": "stdout",
          "text": [
            "opensky_api is not currently tracking these flights with select ICAO24 codes\n"
          ]
        }
      ],
      "source": [
        "import requests\n",
        "import pandas as pd\n",
        "import json\n",
        "\n",
        "opensky_api_url = \"https://opensky-network.org/api/states/all\"\n",
        "\n",
        "#flight tailnumbers\n",
        "#tom_cruise=N350XX\n",
        "#taylor_swift=N621MM\n",
        "\n",
        "#ICAO24 codes\n",
        "icao24_planes = [\"A3E6F0\", \"A81B13\"]\n",
        "\n",
        "def flight_data():\n",
        "    response = requests.get(opensky_api_url)\n",
        "\n",
        "    if response.status_code == 200:\n",
        "        data = response.json()\n",
        "        states = data.get(\"states\", [])\n",
        "\n",
        "        results = []\n",
        "        for flight in states:\n",
        "            if flight[0].lower() in [icao.lower() for icao in icao24_planes]:  # Case insensitive match\n",
        "                results.append({\n",
        "                    \"ICAO24\": flight[0],\n",
        "                    \"Callsign\": flight[1] if flight[1] else \"Unknown\",\n",
        "                    \"Origin Country\": flight[2],\n",
        "                    \"Last Position (Lon, Lat)\": (flight[5], flight[6]),  # Fixed order\n",
        "                    \"Altitude (m)\": flight[7],\n",
        "                    \"Velocity (m/s)\": flight[9],\n",
        "                    \"Last Contact (Timestamp)\": flight[4],\n",
        "                })\n",
        "\n",
        "        return results\n",
        "    else:\n",
        "        print(\"Failed to fetch data. HTTP Status:\", response.status_code)\n",
        "        return None\n",
        "\n",
        "# Fetch flight data\n",
        "flight_info = flight_data()\n",
        "\n",
        "# Display results\n",
        "if flight_info:\n",
        "    for flight in flight_info:\n",
        "        print(json.dumps(flight, indent=4))\n",
        "else:\n",
        "    print(\"opensky_api is not currently tracking these flights with select ICAO24 codes\")\n"
      ]
    }
  ]
}